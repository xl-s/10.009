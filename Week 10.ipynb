{
 "cells": [
  {
   "cell_type": "code",
   "execution_count": 3,
   "metadata": {},
   "outputs": [],
   "source": [
    "import numpy as np\n",
    "import matplotlib.pyplot as plt\n",
    "from matplotlib.colors import ListedColormap\n",
    "from sklearn import neighbors, datasets, linear_model\n",
    "from sklearn.metrics import confusion_matrix, mean_squared_error, r2_score, accuracy_score, recall_score\n",
    "from sklearn.model_selection import train_test_split\n",
    "from sklearn.preprocessing import PolynomialFeatures"
   ]
  },
  {
   "cell_type": "code",
   "execution_count": 4,
   "metadata": {},
   "outputs": [],
   "source": [
    "bunchobject = datasets.load_breast_cancer()\n",
    "feature_range = [0, 1]\n",
    "data_subset = bunchobject.data[:,feature_range]\n",
    "feature_names_subset = bunchobject.feature_names[feature_range]\n",
    "\n",
    "feature_col = 0\n",
    "one_col_data = data_subset[:,feature_col]\n",
    "feature_name_selected = bunchobject.feature_names[feature_col]\n",
    "number_of_bins = 30\n",
    "title_string = 'Histogram'\n",
    "\n",
    "x_index = 0\n",
    "y_index = 3\n",
    "x = bunchobject.data[:,x_index]\n",
    "y = bunchobject.data[:,y_index]\n",
    "x_label = bunchobject.feature_names[x_index]\n",
    "y_label = bunchobject.feature_names[y_index]\n",
    "\n",
    "unique, counts = np.unique(bunchobject.target, return_counts = True )\n",
    "\n",
    "first_column = bunchobject.data[:, np.newaxis, 1]\n",
    "col_no = [ 0 , 1 , 2 ]\n",
    "some_columns = bunchobject.data[:,col_no]"
   ]
  },
  {
   "cell_type": "code",
   "execution_count": 5,
   "metadata": {},
   "outputs": [],
   "source": [
    "def get_metrics(actual_targets, predicted_targets, labels):\n",
    "    c_matrix = confusion_matrix(actual_targets, predicted_targets)  #Note: labels supposed to be third argument\n",
    "    recs = c_matrix.sum()\n",
    "    acc = round(accuracy_score(actual_targets, predicted_targets), 3)  #round((c_matrix[0, 0] + c_matrix[1, 1]) / recs, 3)\n",
    "    sens = round(recall_score(actual_targets, predicted_targets), 3)  #round(c_matrix[1, 1] / (c_matrix[1, 0] + c_matrix[1, 1]), 3)\n",
    "    fpr = round(c_matrix[0, 1] / (c_matrix[0, 0] + c_matrix[0, 1]), 3)\n",
    "    metrics = {\n",
    "        \"confusion matrix\": c_matrix,\n",
    "        \"total records\": recs,\n",
    "        \"accuracy\": acc,\n",
    "        \"sensitivity\": sens,\n",
    "        \"false positive rate\": fpr\n",
    "    }\n",
    "    return metrics"
   ]
  },
  {
   "cell_type": "code",
   "execution_count": 6,
   "metadata": {
    "scrolled": true
   },
   "outputs": [],
   "source": [
    "def display_box_plots(data, feature_names, title_name='default'):\n",
    "    plt.boxplot(data)\n",
    "    plt.title(title_name)\n",
    "    feature_names = np.insert(feature_names, 0, '')\n",
    "    feature_names = np.append(feature_names, '')\n",
    "    plt.xticks(np.arange(len(feature_names)), feature_names)\n",
    "    plt.show()"
   ]
  },
  {
   "cell_type": "code",
   "execution_count": 7,
   "metadata": {},
   "outputs": [],
   "source": [
    "def display_histogram(data, nbins, feature_name, title_name='default'):\n",
    "    plt.hist(data, bins=nbins)\n",
    "    plt.title(title_name)\n",
    "    plt.xlabel(feature_name)\n",
    "    plt.show()"
   ]
  },
  {
   "cell_type": "code",
   "execution_count": 8,
   "metadata": {},
   "outputs": [],
   "source": [
    "def display_scatter(x, y, xlabel='x', ylabel='y', title_name='default'):\n",
    "    plt.scatter(x, y)\n",
    "    plt.title(title_name)\n",
    "    plt.xlabel(xlabel)\n",
    "    plt.ylabel(ylabel)\n",
    "    plt.show()"
   ]
  },
  {
   "cell_type": "code",
   "execution_count": 9,
   "metadata": {},
   "outputs": [],
   "source": [
    "def display_bar_chart(positions, counts, names, title_name='default'):\n",
    "    plt.bar(positions, counts)\n",
    "    plt.title(title_name)\n",
    "    plt.xticks(positions, names)\n",
    "    plt.show()"
   ]
  },
  {
   "cell_type": "code",
   "execution_count": 10,
   "metadata": {},
   "outputs": [],
   "source": [
    "def five_number_summary(x):\n",
    "    summary = []\n",
    "    columns = x.shape[1]\n",
    "    for i in range(columns):\n",
    "        fns_0 = np.min(x[:,i])\n",
    "        fns_25 = np.percentile(x[:,i], 25)\n",
    "        fns_50 = np.median(x[:,i])\n",
    "        fns_75 = np.percentile(x[:,i], 75)\n",
    "        fns_100 = np.max(x[:,i])\n",
    "        column = {\n",
    "            \"minimum\": fns_0,\n",
    "            \"first quartile\": fns_25,\n",
    "            \"median\": fns_50,\n",
    "            \"third quartile\": fns_75,\n",
    "            \"maxmimum\": fns_100\n",
    "        }\n",
    "        summary.append(column)\n",
    "    return summary"
   ]
  },
  {
   "cell_type": "code",
   "execution_count": 11,
   "metadata": {},
   "outputs": [],
   "source": [
    "def normalize_minmax(data):\n",
    "    columns = data.shape[1]\n",
    "    rows = data.shape[0]\n",
    "    norm = np.zeros((rows, columns))\n",
    "    for i in range(columns):\n",
    "        minimum = np.min(data[:,i])\n",
    "        maximum = np.max(data[:,i])\n",
    "        span = maximum - minimum\n",
    "        for j in range(rows):\n",
    "            normalized = (data[j, i] - minimum) / span\n",
    "            norm[j, i] = normalized\n",
    "    return norm"
   ]
  },
  {
   "cell_type": "code",
   "execution_count": 12,
   "metadata": {},
   "outputs": [],
   "source": [
    "def linear_regression(bunchobject, x_index, y_index, size, seed):\n",
    "    x_train, x_test, y_train, y_test = train_test_split(\n",
    "        bunchobject.data[:, x_index],\n",
    "        bunchobject.data[:, y_index],\n",
    "        test_size = size,\n",
    "        random_state = seed\n",
    "    )\n",
    "    x_train = x_train.reshape(-1, 1)\n",
    "    y_train = y_train.reshape(-1, 1)\n",
    "    x_test = x_test.reshape(-1, 1)\n",
    "    regr = linear_model.LinearRegression()\n",
    "    regr.fit(x_train, y_train)\n",
    "    y_pred = regr.predict(x_test)\n",
    "    mse = mean_squared_error(y_test, y_pred)\n",
    "    r2 = r2_score(y_test, y_pred)\n",
    "    results = {\n",
    "        'coefficients': regr.coef_,\n",
    "        'intercept': regr.intercept_,\n",
    "        'mean squared error': mse,\n",
    "        'r2 score': r2\n",
    "    }\n",
    "    return x_train, y_train, x_test, y_pred, results"
   ]
  },
  {
   "cell_type": "code",
   "execution_count": 13,
   "metadata": {},
   "outputs": [],
   "source": [
    "def plot_linear_regression(x1, y1, x2, y2, x_label='', y_label=''):\n",
    "    plt.scatter(x1, y1, color='black')\n",
    "    plt.plot(x2, y2)\n",
    "    plt.xlabel(x_label)\n",
    "    plt.ylabel(y_label)\n",
    "    plt.show()"
   ]
  },
  {
   "cell_type": "code",
   "execution_count": 14,
   "metadata": {},
   "outputs": [],
   "source": [
    "def multiple_linear_regression(bunchobject, x_index, y_index, order, size, seed):\n",
    "    x_train, x_test, y_train, y_test = train_test_split(\n",
    "        bunchobject.data[:, x_index],\n",
    "        bunchobject.data[:, y_index],\n",
    "        test_size = size,\n",
    "        random_state = seed\n",
    "    )\n",
    "    x_train = x_train.reshape(-1, 1)\n",
    "    y_train = y_train.reshape(-1, 1)\n",
    "    x_test = x_test.reshape(-1, 1)\n",
    "    poly = PolynomialFeatures(order, include_bias=False)\n",
    "    c_data = poly.fit_transform(x_train, y_train)\n",
    "    t_data = poly.fit_transform(x_test, y_train)\n",
    "    regr = linear_model.LinearRegression()\n",
    "    regr.fit(c_data, y_train)\n",
    "    y_pred = regr.predict(t_data)\n",
    "    mse = mean_squared_error(y_test, y_pred)\n",
    "    r2 = r2_score(y_test, y_pred)\n",
    "    results = {\n",
    "        'coefficients': regr.coef_,\n",
    "        'intercept': regr.intercept_,\n",
    "        'mean squared error': mse,\n",
    "        'r2 score': r2\n",
    "    }\n",
    "    return x_train, y_train, x_test, y_pred, results"
   ]
  },
  {
   "cell_type": "code",
   "execution_count": 15,
   "metadata": {},
   "outputs": [],
   "source": [
    "def knn_classifier(bunchobject, feature_list, size, seed, k):\n",
    "    data = normalize_minmax(bunchobject.data)\n",
    "    data_train, data_test, target_train, target_test = train_test_split(\n",
    "        data[:, feature_list],\n",
    "        bunchobject.target,\n",
    "        test_size = size,\n",
    "        random_state = seed\n",
    "    )\n",
    "    clf = neighbors.KNeighborsClassifier(n_neighbors = k)\n",
    "    clf.fit(data_train, target_train)\n",
    "    target_predicted = clf.predict(data_test)\n",
    "    results = get_metrics(target_test, target_predicted, bunchobject.target_names)\n",
    "    return results"
   ]
  },
  {
   "cell_type": "code",
   "execution_count": 16,
   "metadata": {},
   "outputs": [],
   "source": [
    "def knn_classifier_full(bunchobject, feature_list, size, seed):\n",
    "    data = normalize_minmax(bunchobject.data)\n",
    "    data_train, data_part2, target_train, target_part2 = train_test_split(\n",
    "        data[:, feature_list],\n",
    "        bunchobject.target,\n",
    "        test_size = size,\n",
    "        random_state = seed\n",
    "    )\n",
    "    data_validation, data_test, target_validation, target_test = train_test_split(\n",
    "        data_part2,\n",
    "        target_part2,\n",
    "        test_size = 0.5,\n",
    "        random_state = seed\n",
    "    )\n",
    "    acc = [None] # 0th index not used\n",
    "    metrics = [None] # 0th index not used\n",
    "    for k in range(1, 20):\n",
    "        clf = neighbors.KNeighborsClassifier(n_neighbors = k)\n",
    "        clf.fit(data_train, target_train)\n",
    "        target_predicted = clf.predict(data_validation)\n",
    "        metrics.append(get_metrics(target_validation, target_predicted, bunchobject.target_names))\n",
    "        acc.append(metrics[k].get('accuracy'))\n",
    "    max_acc = max(acc[1:])\n",
    "    best = acc.index(max_acc)\n",
    "    clf = neighbors.KNeighborsClassifier(n_neighbors = best)\n",
    "    clf.fit(data_train, target_train)\n",
    "    target_predicted = clf.predict(data_test)\n",
    "    results = get_metrics(target_test, target_predicted, bunchobject.target_names)\n",
    "    out_results = {\n",
    "        'best_k': best,\n",
    "        'validation set': metrics[best],\n",
    "        'test set': results\n",
    "    }\n",
    "    return out_results"
   ]
  },
  {
   "cell_type": "code",
   "execution_count": 17,
   "metadata": {
    "scrolled": false
   },
   "outputs": [
    {
     "data": {
      "image/png": "[encoded data removed]",
      "text/plain": [
       "<Figure size 432x288 with 1 Axes>"
      ]
     },
     "metadata": {
      "needs_background": "light"
     },
     "output_type": "display_data"
    },
    {
     "data": {
      "image/png": "[encoded data removed]",
      "text/plain": [
       "<Figure size 432x288 with 1 Axes>"
      ]
     },
     "metadata": {
      "needs_background": "light"
     },
     "output_type": "display_data"
    },
    {
     "data": {
      "image/png": "[encoded data removed]",
      "text/plain": [
       "<Figure size 432x288 with 1 Axes>"
      ]
     },
     "metadata": {
      "needs_background": "light"
     },
     "output_type": "display_data"
    },
    {
     "data": {
      "image/png": "[encoded data removed]",
      "text/plain": [
       "<Figure size 432x288 with 1 Axes>"
      ]
     },
     "metadata": {
      "needs_background": "light"
     },
     "output_type": "display_data"
    },
    {
     "name": "stdout",
     "output_type": "stream",
     "text": [
      "[{'minimum': 6.981, 'first quartile': 11.7, 'median': 13.37, 'third quartile': 15.78, 'maxmimum': 28.11}, {'minimum': 9.71, 'first quartile': 16.17, 'median': 18.84, 'third quartile': 21.8, 'maxmimum': 39.28}, {'minimum': 43.79, 'first quartile': 75.17, 'median': 86.24, 'third quartile': 104.1, 'maxmimum': 188.5}]\n",
      "normalized [{'minimum': 0.0, 'first quartile': 0.22334232571347437, 'median': 0.30238061432154856, 'third quartile': 0.41644185716314075, 'maxmimum': 1.0}, {'minimum': 0.0, 'first quartile': 0.21846466012850865, 'median': 0.30875887724044637, 'third quartile': 0.40886033141697664, 'maxmimum': 1.0}, {'minimum': 0.0, 'first quartile': 0.2168474880796075, 'median': 0.2933453113122797, 'third quartile': 0.41676456360997854, 'maxmimum': 1.0}]\n",
      "{'confusion matrix': array([[ 73,   9],\n",
      "       [  5, 141]], dtype=int64), 'total records': 228, 'accuracy': 0.939, 'sensitivity': 0.966, 'false positive rate': 0.11}\n",
      "{'coefficients': array([[100.16755386]]), 'intercept': array([-760.52027342]), 'mean squared error': 2631.2988797244757, 'r2 score': 0.9777253933521517}\n"
     ]
    },
    {
     "data": {
      "image/png": "[encoded data removed]",
      "text/plain": [
       "<Figure size 432x288 with 1 Axes>"
      ]
     },
     "metadata": {
      "needs_background": "light"
     },
     "output_type": "display_data"
    },
    {
     "name": "stdout",
     "output_type": "stream",
     "text": [
      "{'coefficients': array([[-1.28141031e+02,  1.57502508e+01, -5.29186793e-01,\n",
      "         7.97220165e-03]]), 'intercept': array([459.72265999]), 'mean squared error': 145.64415629851655, 'r2 score': 0.9987670855952149}\n"
     ]
    },
    {
     "data": {
      "image/png": "[encoded data removed]",
      "text/plain": [
       "<Figure size 432x288 with 1 Axes>"
      ]
     },
     "metadata": {
      "needs_background": "light"
     },
     "output_type": "display_data"
    },
    {
     "name": "stdout",
     "output_type": "stream",
     "text": [
      "{'best_k': 4, 'validation set': {'confusion matrix': array([[39,  2],\n",
      "       [ 2, 71]], dtype=int64), 'total records': 114, 'accuracy': 0.965, 'sensitivity': 0.973, 'false positive rate': 0.049}, 'test set': {'confusion matrix': array([[40,  1],\n",
      "       [ 4, 69]], dtype=int64), 'total records': 114, 'accuracy': 0.956, 'sensitivity': 0.945, 'false positive rate': 0.024}}\n"
     ]
    }
   ],
   "source": [
    "# Test cases\n",
    "\n",
    "display_box_plots(data_subset,feature_names_subset, 'Box')\n",
    "display_histogram(one_col_data, number_of_bins, feature_name_selected, title_string)\n",
    "display_scatter(x,y,x_label,y_label, 'Scatter')\n",
    "display_bar_chart(unique, counts, bunchobject.target_names, 'Bar')\n",
    "print(five_number_summary(some_columns))\n",
    "snorm = normalize_minmax(some_columns)\n",
    "print( 'normalized' , five_number_summary(snorm))\n",
    "\n",
    "# kNN Classifier:\n",
    "features = range(20)\n",
    "results = knn_classifier(bunchobject, features, 0.40, 2752, 3)\n",
    "print(results)\n",
    "\n",
    "# Linear Regression:\n",
    "x_train, y_train, x_test, y_pred, results = linear_regression(bunchobject, 0, 3, 0.4, 2752)\n",
    "print(results)\n",
    "plot_linear_regression(x_train, y_train, x_test, y_pred, bunchobject.feature_names[0], bunchobject.feature_names[3])\n",
    "\n",
    "\n",
    "# Multiple Linear Regression:\n",
    "x_train, y_train, x_test, y_pred, results = multiple_linear_regression(bunchobject, 0, 3, 4, 0.4, 2752)\n",
    "print(results)\n",
    "plot_linear_regression(x_train, y_train, x_test, y_pred, bunchobject.feature_names[0], bunchobject.feature_names[3])\n",
    "\n",
    "# Full kNN Classifier:\n",
    "results = knn_classifier_full(bunchobject, features, 0.40, 2752)\n",
    "print(results)"
   ]
  }
 ],
 "metadata": {
  "kernelspec": {
   "display_name": "Python 3",
   "language": "python",
   "name": "python3"
  },
  "language_info": {
   "codemirror_mode": {
    "name": "ipython",
    "version": 3
   },
   "file_extension": ".py",
   "mimetype": "text/x-python",
   "name": "python",
   "nbconvert_exporter": "python",
   "pygments_lexer": "ipython3",
   "version": "3.7.1"
  }
 },
 "nbformat": 4,
 "nbformat_minor": 2
}
